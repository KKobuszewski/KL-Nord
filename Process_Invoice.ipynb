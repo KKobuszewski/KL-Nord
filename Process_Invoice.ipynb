{
  "nbformat": 4,
  "nbformat_minor": 0,
  "metadata": {
    "colab": {
      "provenance": [],
      "include_colab_link": true
    },
    "kernelspec": {
      "name": "python3",
      "display_name": "Python 3"
    },
    "language_info": {
      "name": "python"
    }
  },
  "cells": [
    {
      "cell_type": "markdown",
      "metadata": {
        "id": "view-in-github",
        "colab_type": "text"
      },
      "source": [
        "<a href=\"https://colab.research.google.com/github/KKobuszewski/KL-Nord/blob/main/Process_Invoice.ipynb\" target=\"_parent\"><img src=\"https://colab.research.google.com/assets/colab-badge.svg\" alt=\"Open In Colab\"/></a>"
      ]
    },
    {
      "cell_type": "markdown",
      "source": [
        "**Konfiguracja środowiska i łączenie z dyskiem Google**\n",
        "\n",
        "Komórkę poniżej należy odpalić przy każdym nowym uruchomieniu notebooka.\n",
        "\n"
      ],
      "metadata": {
        "id": "PemiQSLwvPGY"
      }
    },
    {
      "cell_type": "code",
      "execution_count": null,
      "metadata": {
        "colab": {
          "base_uri": "https://localhost:8080/"
        },
        "id": "OKoVaof-pQZp",
        "outputId": "f599694d-d0af-4f4e-fe48-475027be637d"
      },
      "outputs": [
        {
          "output_type": "stream",
          "name": "stdout",
          "text": [
            "Looking in indexes: https://pypi.org/simple, https://us-python.pkg.dev/colab-wheels/public/simple/\n",
            "Collecting PyPDF2\n",
            "  Downloading pypdf2-3.0.1-py3-none-any.whl (232 kB)\n",
            "\u001b[2K     \u001b[90m━━━━━━━━━━━━━━━━━━━━━━━━━━━━━━━━━━━━━━━\u001b[0m \u001b[32m232.6/232.6 kB\u001b[0m \u001b[31m4.4 MB/s\u001b[0m eta \u001b[36m0:00:00\u001b[0m\n",
            "\u001b[?25hRequirement already satisfied: typing_extensions>=3.10.0.0 in /usr/local/lib/python3.9/dist-packages (from PyPDF2) (4.5.0)\n",
            "Installing collected packages: PyPDF2\n",
            "Successfully installed PyPDF2-3.0.1\n",
            "Looking in indexes: https://pypi.org/simple, https://us-python.pkg.dev/colab-wheels/public/simple/\n",
            "Requirement already satisfied: Jinja2 in /usr/local/lib/python3.9/dist-packages (3.1.2)\n",
            "Requirement already satisfied: MarkupSafe>=2.0 in /usr/local/lib/python3.9/dist-packages (from Jinja2) (2.1.2)\n",
            "Looking in indexes: https://pypi.org/simple, https://us-python.pkg.dev/colab-wheels/public/simple/\n",
            "Collecting num2words\n",
            "  Downloading num2words-0.5.12-py3-none-any.whl (125 kB)\n",
            "\u001b[2K     \u001b[90m━━━━━━━━━━━━━━━━━━━━━━━━━━━━━━━━━━━━━━━\u001b[0m \u001b[32m125.2/125.2 kB\u001b[0m \u001b[31m2.8 MB/s\u001b[0m eta \u001b[36m0:00:00\u001b[0m\n",
            "\u001b[?25hCollecting docopt>=0.6.2\n",
            "  Downloading docopt-0.6.2.tar.gz (25 kB)\n",
            "  Preparing metadata (setup.py) ... \u001b[?25l\u001b[?25hdone\n",
            "Building wheels for collected packages: docopt\n",
            "  Building wheel for docopt (setup.py) ... \u001b[?25l\u001b[?25hdone\n",
            "  Created wheel for docopt: filename=docopt-0.6.2-py2.py3-none-any.whl size=13721 sha256=290712695eb450b0e3beee30f284848d48955138727230c98804aaca7a486cb7\n",
            "  Stored in directory: /root/.cache/pip/wheels/70/4a/46/1309fc853b8d395e60bafaf1b6df7845bdd82c95fd59dd8d2b\n",
            "Successfully built docopt\n",
            "Installing collected packages: docopt, num2words\n",
            "Successfully installed docopt-0.6.2 num2words-0.5.12\n",
            "Reading package lists... Done\n",
            "Building dependency tree       \n",
            "Reading state information... Done\n",
            "The following additional packages will be installed:\n",
            "  dvisvgm fonts-adf-accanthis fonts-adf-berenis fonts-adf-gillius\n",
            "  fonts-adf-universalis fonts-cabin fonts-cantarell fonts-comfortaa\n",
            "  fonts-croscore fonts-crosextra-caladea fonts-crosextra-carlito\n",
            "  fonts-dejavu-core fonts-dejavu-extra fonts-droid-fallback fonts-ebgaramond\n",
            "  fonts-ebgaramond-extra fonts-font-awesome fonts-freefont-otf\n",
            "  fonts-freefont-ttf fonts-gfs-artemisia fonts-gfs-complutum fonts-gfs-didot\n",
            "  fonts-gfs-neohellenic fonts-gfs-olga fonts-gfs-solomos fonts-go\n",
            "  fonts-junicode fonts-lato fonts-linuxlibertine fonts-lmodern fonts-lobster\n",
            "  fonts-lobstertwo fonts-noto-core fonts-noto-mono fonts-oflb-asana-math\n",
            "  fonts-open-sans fonts-roboto-unhinted fonts-sil-gentium\n",
            "  fonts-sil-gentium-basic fonts-sil-gentiumplus fonts-sil-gentiumplus-compact\n",
            "  fonts-stix fonts-texgyre fonts-urw-base35 javascript-common\n",
            "  libapache-pom-java libcommons-logging-java libcommons-parent-java\n",
            "  libfontbox-java libfontenc1 libgs9 libgs9-common libharfbuzz-icu0 libidn11\n",
            "  libijs-0.35 libjbig2dec0 libjs-jquery libkpathsea6 libpdfbox-java\n",
            "  libptexenc1 libruby2.7 libsynctex2 libteckit0 libtexlua53 libtexluajit2\n",
            "  libwoff1 libzzip-0-13 lmodern poppler-data preview-latex-style rake ruby\n",
            "  ruby-minitest ruby-net-telnet ruby-power-assert ruby-test-unit ruby-xmlrpc\n",
            "  ruby2.7 rubygems-integration t1utils tex-gyre texlive-binaries\n",
            "  texlive-fonts-extra-links texlive-fonts-recommended texlive-latex-base\n",
            "  texlive-latex-extra texlive-latex-recommended texlive-pictures\n",
            "  texlive-plain-generic tipa xfonts-encodings xfonts-utils\n",
            "Suggested packages:\n",
            "  fonts-noto fontforge apache2 | lighttpd | httpd libavalon-framework-java\n",
            "  libcommons-logging-java-doc libexcalibur-logkit-java liblog4j1.2-java\n",
            "  poppler-utils ghostscript fonts-japanese-mincho | fonts-ipafont-mincho\n",
            "  fonts-japanese-gothic | fonts-ipafont-gothic fonts-arphic-ukai\n",
            "  fonts-arphic-uming fonts-nanum ri ruby-dev bundler debhelper gv\n",
            "  | postscript-viewer perl-tk xpdf | pdf-viewer xzdec cm-super\n",
            "  texlive-fonts-extra-doc texlive-fonts-recommended-doc texlive-latex-base-doc\n",
            "  python3-pygments icc-profiles libfile-which-perl\n",
            "  libspreadsheet-parseexcel-perl texlive-latex-extra-doc\n",
            "  texlive-latex-recommended-doc texlive-pstricks dot2tex prerex ruby-tcltk\n",
            "  | libtcltk-ruby texlive-pictures-doc vprerex default-jre-headless\n",
            "The following NEW packages will be installed:\n",
            "  dvisvgm fonts-adf-accanthis fonts-adf-berenis fonts-adf-gillius\n",
            "  fonts-adf-universalis fonts-cabin fonts-cantarell fonts-comfortaa\n",
            "  fonts-croscore fonts-crosextra-caladea fonts-crosextra-carlito\n",
            "  fonts-dejavu-core fonts-dejavu-extra fonts-droid-fallback fonts-ebgaramond\n",
            "  fonts-ebgaramond-extra fonts-font-awesome fonts-freefont-otf\n",
            "  fonts-freefont-ttf fonts-gfs-artemisia fonts-gfs-complutum fonts-gfs-didot\n",
            "  fonts-gfs-neohellenic fonts-gfs-olga fonts-gfs-solomos fonts-go\n",
            "  fonts-junicode fonts-lato fonts-linuxlibertine fonts-lmodern fonts-lobster\n",
            "  fonts-lobstertwo fonts-noto-core fonts-noto-mono fonts-oflb-asana-math\n",
            "  fonts-open-sans fonts-roboto-unhinted fonts-sil-gentium\n",
            "  fonts-sil-gentium-basic fonts-sil-gentiumplus fonts-sil-gentiumplus-compact\n",
            "  fonts-stix fonts-texgyre fonts-urw-base35 javascript-common\n",
            "  libapache-pom-java libcommons-logging-java libcommons-parent-java\n",
            "  libfontbox-java libfontenc1 libgs9 libgs9-common libharfbuzz-icu0 libidn11\n",
            "  libijs-0.35 libjbig2dec0 libjs-jquery libkpathsea6 libpdfbox-java\n",
            "  libptexenc1 libruby2.7 libsynctex2 libteckit0 libtexlua53 libtexluajit2\n",
            "  libwoff1 libzzip-0-13 lmodern poppler-data preview-latex-style rake ruby\n",
            "  ruby-minitest ruby-net-telnet ruby-power-assert ruby-test-unit ruby-xmlrpc\n",
            "  ruby2.7 rubygems-integration t1utils tex-common tex-gyre texlive-base\n",
            "  texlive-binaries texlive-fonts-extra texlive-fonts-extra-links\n",
            "  texlive-fonts-recommended texlive-lang-polish texlive-latex-base\n",
            "  texlive-latex-extra texlive-latex-recommended texlive-luatex\n",
            "  texlive-pictures texlive-plain-generic tipa xfonts-encodings xfonts-utils\n",
            "0 upgraded, 97 newly installed, 0 to remove and 24 not upgraded.\n",
            "Need to get 670 MB of archives.\n",
            "After this operation, 1,972 MB of additional disk space will be used.\n",
            "Get:1 http://archive.ubuntu.com/ubuntu focal/main amd64 fonts-droid-fallback all 1:6.0.1r16-1.1 [1,805 kB]\n",
            "Get:2 http://archive.ubuntu.com/ubuntu focal/main amd64 fonts-lato all 2.0-2 [2,698 kB]\n",
            "Get:3 http://archive.ubuntu.com/ubuntu focal/main amd64 poppler-data all 0.4.9-2 [1,475 kB]\n",
            "Get:4 http://archive.ubuntu.com/ubuntu focal/universe amd64 tex-common all 6.13 [32.7 kB]\n",
            "Get:5 http://archive.ubuntu.com/ubuntu focal/main amd64 fonts-urw-base35 all 20170801.1-3 [6,333 kB]\n",
            "Get:6 http://archive.ubuntu.com/ubuntu focal-updates/main amd64 libgs9-common all 9.50~dfsg-5ubuntu4.6 [681 kB]\n",
            "Get:7 http://archive.ubuntu.com/ubuntu focal/main amd64 libidn11 amd64 1.33-2.2ubuntu2 [46.2 kB]\n",
            "Get:8 http://archive.ubuntu.com/ubuntu focal/main amd64 libijs-0.35 amd64 0.35-15 [15.7 kB]\n",
            "Get:9 http://archive.ubuntu.com/ubuntu focal/main amd64 libjbig2dec0 amd64 0.18-1ubuntu1 [60.0 kB]\n",
            "Get:10 http://archive.ubuntu.com/ubuntu focal-updates/main amd64 libgs9 amd64 9.50~dfsg-5ubuntu4.6 [2,173 kB]\n",
            "Get:11 http://archive.ubuntu.com/ubuntu focal/main amd64 libkpathsea6 amd64 2019.20190605.51237-3build2 [57.0 kB]\n",
            "Get:12 http://archive.ubuntu.com/ubuntu focal/main amd64 libwoff1 amd64 1.0.2-1build2 [42.0 kB]\n",
            "Get:13 http://archive.ubuntu.com/ubuntu focal/universe amd64 dvisvgm amd64 2.8.1-1build1 [1,048 kB]\n",
            "Get:14 http://archive.ubuntu.com/ubuntu focal/universe amd64 fonts-adf-accanthis all 0.20190904-1.1 [203 kB]\n",
            "Get:15 http://archive.ubuntu.com/ubuntu focal/universe amd64 fonts-adf-berenis all 0.20190904-1.1 [313 kB]\n",
            "Get:16 http://archive.ubuntu.com/ubuntu focal/universe amd64 fonts-adf-gillius all 0.20190904-1.1 [190 kB]\n",
            "Get:17 http://archive.ubuntu.com/ubuntu focal/universe amd64 fonts-adf-universalis all 0.20190904-1.1 [112 kB]\n",
            "Get:18 http://archive.ubuntu.com/ubuntu focal/universe amd64 fonts-cabin all 1.5-3 [141 kB]\n",
            "Get:19 http://archive.ubuntu.com/ubuntu focal/universe amd64 fonts-cantarell all 0.111-2 [250 kB]\n",
            "Get:20 http://archive.ubuntu.com/ubuntu focal/universe amd64 fonts-comfortaa all 3.001-3 [129 kB]\n",
            "Get:21 http://archive.ubuntu.com/ubuntu focal-updates/universe amd64 fonts-croscore all 20200323-1build1~ubuntu20.04.1 [2,140 kB]\n",
            "Get:22 http://archive.ubuntu.com/ubuntu focal/universe amd64 fonts-crosextra-caladea all 20130214-2 [82.4 kB]\n",
            "Get:23 http://archive.ubuntu.com/ubuntu focal/universe amd64 fonts-crosextra-carlito all 20130920-1 [742 kB]\n",
            "Get:24 http://archive.ubuntu.com/ubuntu focal/main amd64 fonts-dejavu-core all 2.37-1 [1,041 kB]\n",
            "Get:25 http://archive.ubuntu.com/ubuntu focal/main amd64 fonts-dejavu-extra all 2.37-1 [1,953 kB]\n",
            "Get:26 http://archive.ubuntu.com/ubuntu focal/universe amd64 fonts-ebgaramond all 0.016-1ubuntu1 [472 kB]\n",
            "Get:27 http://archive.ubuntu.com/ubuntu focal/universe amd64 fonts-ebgaramond-extra all 0.016-1ubuntu1 [2,161 kB]\n",
            "Get:28 http://archive.ubuntu.com/ubuntu focal/main amd64 fonts-font-awesome all 5.0.10+really4.7.0~dfsg-1 [514 kB]\n",
            "Get:29 http://archive.ubuntu.com/ubuntu focal/universe amd64 fonts-freefont-otf all 20120503-10 [3,056 kB]\n",
            "Get:30 http://archive.ubuntu.com/ubuntu focal/main amd64 fonts-freefont-ttf all 20120503-10 [2,440 kB]\n",
            "Get:31 http://archive.ubuntu.com/ubuntu focal/universe amd64 fonts-gfs-artemisia all 1.1-5 [260 kB]\n",
            "Get:32 http://archive.ubuntu.com/ubuntu focal/universe amd64 fonts-gfs-complutum all 1.1-6 [41.6 kB]\n",
            "Get:33 http://archive.ubuntu.com/ubuntu focal/universe amd64 fonts-gfs-didot all 1.1-6 [278 kB]\n",
            "Get:34 http://archive.ubuntu.com/ubuntu focal/universe amd64 fonts-gfs-neohellenic all 1.1-6 [215 kB]\n",
            "Get:35 http://archive.ubuntu.com/ubuntu focal/universe amd64 fonts-gfs-olga all 1.1-5 [33.4 kB]\n",
            "Get:36 http://archive.ubuntu.com/ubuntu focal/universe amd64 fonts-gfs-solomos all 1.1-5 [40.7 kB]\n",
            "Get:37 http://archive.ubuntu.com/ubuntu focal/universe amd64 fonts-go all 0~20170330-1 [369 kB]\n",
            "Get:38 http://archive.ubuntu.com/ubuntu focal/universe amd64 fonts-junicode all 1.002-2 [828 kB]\n",
            "Get:39 http://archive.ubuntu.com/ubuntu focal/universe amd64 fonts-linuxlibertine all 5.3.0-4 [1,627 kB]\n",
            "Get:40 http://archive.ubuntu.com/ubuntu focal/universe amd64 fonts-lmodern all 2.004.5-6 [4,532 kB]\n",
            "Get:41 http://archive.ubuntu.com/ubuntu focal/universe amd64 fonts-lobster all 2.0-2 [38.7 kB]\n",
            "Get:42 http://archive.ubuntu.com/ubuntu focal/universe amd64 fonts-lobstertwo all 2.0-2 [92.7 kB]\n",
            "Get:43 http://archive.ubuntu.com/ubuntu focal-updates/main amd64 fonts-noto-core all 20200323-1build1~ubuntu20.04.1 [10.9 MB]\n",
            "Get:44 http://archive.ubuntu.com/ubuntu focal-updates/main amd64 fonts-noto-mono all 20200323-1build1~ubuntu20.04.1 [80.6 kB]\n",
            "Get:45 http://archive.ubuntu.com/ubuntu focal/universe amd64 fonts-oflb-asana-math all 000.907-6 [246 kB]\n",
            "15% [45 fonts-oflb-asana-math 0 B/246 kB 0%]                6,607 kB/s 1min 33s"
          ]
        }
      ],
      "source": [
        "!pip install PyPDF2\n",
        "!pip install Jinja2\n",
        "!pip install num2words\n",
        "!sudo apt-get install tex-common texlive-base texlive-fonts-extra texlive-lang-polish texlive-luatex #\n",
        "!sudo apt install dvipng\n",
        "#!pdflatex -help\n",
        "\n",
        "from google.colab import files\n",
        "from google.colab import drive\n",
        "drive.mount('/content/drive')\n",
        "\n",
        "import os\n",
        "import re\n",
        "import io\n",
        "import sys\n",
        "import glob\n",
        "\n",
        "import datetime\n",
        "import numpy as np\n",
        "import pandas as pd\n",
        "\n",
        "import PyPDF2\n",
        "import jinja2\n",
        "from jinja2 import Template\n",
        "from num2words import num2words\n",
        "\n",
        "# import custom python module from repository\n",
        "!git clone https://github.com/KKobuszewski/KL-Nord.git\n",
        "sys.path.insert(0,'/content/KL-Nord')\n",
        "import KLutils\n",
        "\n",
        "# move to working directory\n",
        "%cd /content/drive/MyDrive/KL\\ Nord/\n",
        "!ls /content/KL-Nord\n",
        "!ls"
      ]
    },
    {
      "cell_type": "markdown",
      "source": [
        "**Wybranie pliku z komputera**\n",
        "\n",
        "Należy wykonać poniższą komórkę i wybrać plik w momencie, gdy ikona 'Przeglądaj' zostanie podświtlona (po naciśnięciu ikony otworzy się okno dialogowe z możliwością wybierania plików z dysku lokalnego komputera).\n",
        "\n",
        "Można wybierać plik wieloktornie w trakcie tej samej sesji. Ostatni wybrany plik będzie domyślnie użyty do utworzenia faktury prowizyjnej w następnej komórce.\n",
        "\n"
      ],
      "metadata": {
        "id": "6uyTr521gBn9"
      }
    },
    {
      "cell_type": "code",
      "source": [
        "# Choose file to process\n",
        "# assuming only one file chosen\n",
        "uploaded   = files.upload()\n",
        "key        = list( uploaded.keys() )[0]\n",
        "pdfFileObj = io.BytesIO( uploaded[key] )\n",
        "\n",
        "#template_file = '/content/KL-Nord/KL_invoice_template.tex'"
      ],
      "metadata": {
        "id": "4ACmGYiRv5aU"
      },
      "execution_count": null,
      "outputs": []
    },
    {
      "cell_type": "markdown",
      "source": [
        "**Wybierz plik .pdf ze swojego komputera w oknie powyżej.**\n",
        "\n",
        "Pobrany plik powinien się pojawić w tym samym folderze co ten notebook na Dysku Google."
      ],
      "metadata": {
        "id": "3WGs6CrNgdza"
      }
    },
    {
      "cell_type": "markdown",
      "source": [
        "**Wygeneruj fakturę od KL Nord**\n",
        "\n",
        "Uzupełnij numer faktury (KL Nord)"
      ],
      "metadata": {
        "id": "EpTN0edrQ7e8"
      }
    },
    {
      "cell_type": "code",
      "source": [
        "klno = '1-2023.KL Nord'    # TODO: Change filename / invoce id                   # <----------------------------------- Tutaj zmienić numer!\n",
        "eur_per_t = None           # put value manually if needed, otherwise put None\n",
        "\n",
        "klname = klno.replace(' ','_')\n",
        "\n",
        "\n",
        "# ============================================== CODE GENERATING INVOICE ==========================================================\n",
        "\n",
        "data = KLutils.pdf_to_data(pdfFileObj,klno,eur_per_t=eur_per_t)\n",
        "for key, value in data.items():\n",
        "  print('{:<15}: {}'.format(key,value) )\n",
        "print()\n",
        "\n",
        "KLutils.data_to_tex(data)\n",
        "\n",
        "os.system('lualatex -interaction=nonstopmode {}.tex'.format(klname) )             # change to \n",
        "print()\n",
        "\n",
        "# remove unnecessary temporary files\n",
        "os.system( 'rm {}.tex'.format(klno) )\n",
        "os.system( 'rm {}.log'.format(klno) )\n",
        "os.system( 'rm {}.out'.format(klno) )\n",
        "os.system( 'rm {}.aux'.format(klno) )\n"
      ],
      "metadata": {
        "id": "lKejRE_Bs9MV"
      },
      "execution_count": null,
      "outputs": []
    },
    {
      "cell_type": "code",
      "source": [
        "#!rm -r /content/KL-Nord\n",
        "!ls\n",
        "!ls /content"
      ],
      "metadata": {
        "id": "2ozUaUeZR0Nt"
      },
      "execution_count": null,
      "outputs": []
    },
    {
      "cell_type": "markdown",
      "source": [
        "\n",
        "# Sources\n",
        "\n",
        "http://eosrei.net/articles/2015/11/latex-templates-python-and-jinja2-generate-pdfs\n",
        "\n",
        "https://github.com/savoirfairelinux/num2words\n",
        "\n",
        "\n",
        "https://stackoverflow.com/questions/52681405/how-can-i-import-custom-modules-from-a-github-repository-in-google-colab\n",
        "\n",
        "https://medium.com/analytics-vidhya/importing-your-own-python-module-or-python-file-into-colab-3e365f0a35ec"
      ],
      "metadata": {
        "id": "Tsu2SpompvhR"
      }
    },
    {
      "cell_type": "code",
      "source": [],
      "metadata": {
        "id": "tMIgSiemB4rV"
      },
      "execution_count": null,
      "outputs": []
    },
    {
      "cell_type": "code",
      "source": [
        "valuesayen, valuesaypl = KLutils.valuesay(543.5)\n",
        "print(valuesayen)\n",
        "print(valuesaypl)"
      ],
      "metadata": {
        "id": "7TP6FBxUINWW"
      },
      "execution_count": null,
      "outputs": []
    }
  ]
}